{
 "cells": [
  {
   "attachments": {},
   "cell_type": "markdown",
   "id": "d5578e55-bf6b-4386-90e3-19d7e51a1d1a",
   "metadata": {},
   "source": [
    "# Vote autochtone"
   ]
  },
  {
   "attachments": {},
   "cell_type": "markdown",
   "id": "504ae93e",
   "metadata": {},
   "source": [
    "## Liste des communautés autochtones\n",
    "\n",
    "Le site Services aux Autochtones Canada du gouvernement fédéral fournit la liste de toutes les nations communautés autochtones du Québec.\n",
    "\n",
    "BeautifulSoup est utilisé pour récupérer les données inscrites dans les tableaux du site.\n",
    "Les données sont placées dans un DataFrame ['Nation', 'Communauté']"
   ]
  },
  {
   "cell_type": "code",
   "execution_count": null,
   "id": "cb88c4af",
   "metadata": {},
   "outputs": [],
   "source": [
    "import requests\n",
    "from bs4 import BeautifulSoup\n",
    "\n",
    "communities_url = 'https://www.sac-isc.gc.ca/fra/1634312499368/1634312554965'\n",
    "page = requests.get(communities_url)\n",
    "soup = BeautifulSoup(page.text, 'html.parser')"
   ]
  },
  {
   "attachments": {},
   "cell_type": "markdown",
   "id": "4b0e4590",
   "metadata": {},
   "source": [
    "### Extraction des données sur les communautés"
   ]
  },
  {
   "cell_type": "code",
   "execution_count": null,
   "id": "5ac19411",
   "metadata": {},
   "outputs": [],
   "source": [
    "import pandas as pd\n",
    "import numpy as np\n",
    "\n",
    "NATION_COL = 'Nation'\n",
    "COMMUNITY_COL = 'Communauté'\n",
    "\n",
    "communities = pd.DataFrame(columns=[NATION_COL, COMMUNITY_COL])\n",
    "\n",
    "# Les balises 'h4' correspondent aux noms des familles de nations, et sont suivies d'un tableau des nations et communautés\n",
    "nations_html = soup.find_all('h4')\n",
    "for nation_html in nations_html:\n",
    "    nation_name = nation_html.getText()\n",
    "    # Récupère le tableau suivant le nom \n",
    "    table = nation_html.find_all_next('table')[0]\n",
    "    df = pd.read_html(str(table))[0]\n",
    "\n",
    "    # Élimine les lignes contenant le total ou des informations additionnelles, et ne garde que la colonne 'Toponyme'\n",
    "    df = df[~df['Toponyme'].str.startswith('Total', na=False)]\n",
    "    \n",
    "    # Élimine les lignes contenant des informations additionnelles\n",
    "    df = df[df['Toponyme'] != df['Résidents']]\n",
    "\n",
    "    # # Élimine les communautés sans résidents\n",
    "    # df = df[df['Résidents'].astype(str) != '0']\n",
    "\n",
    "    # Ne garde que la colonne toponyme\n",
    "    df = df.loc[:, 'Toponyme']\n",
    "    # Remplit le DataFrame avec les communautés trouvées\n",
    "    # PS: Les données fédérales et les données d'Élections Québec ne correspondant pas tout à fait, un sale travail de glue ci-dessous est nécessaire...\n",
    "    for value in df.values:\n",
    "        if value == 'Betsiamites':\n",
    "            value = 'Pessamit'\n",
    "        if value == 'Romaine':\n",
    "            value = 'La Romaine'\n",
    "        elif value == 'Rapid Lake':\n",
    "            value = 'Lac-Rapide'\n",
    "        elif value == 'Nemiscau':\n",
    "            value = 'Nemaska'\n",
    "        elif value == 'Matimekosh, Lac-John':\n",
    "            communities = pd.concat([communities, pd.DataFrame([[nation_name, 'Lac-John']], columns=[NATION_COL, COMMUNITY_COL])])\n",
    "            communities = pd.concat([communities, pd.DataFrame([[nation_name, 'Matimekosh']], columns=[NATION_COL, COMMUNITY_COL])])\n",
    "            continue\n",
    "        elif value == 'Uashat, Maliotenam':\n",
    "            communities = pd.concat([communities, pd.DataFrame([[nation_name, 'Uashat']], columns=[NATION_COL, COMMUNITY_COL])])\n",
    "            communities = pd.concat([communities, pd.DataFrame([[nation_name, 'Maliotenam']], columns=[NATION_COL, COMMUNITY_COL])])\n",
    "            continue\n",
    "        communities = pd.concat([communities, pd.DataFrame([[nation_name, value]], columns=[NATION_COL, COMMUNITY_COL])])\n"
   ]
  },
  {
   "attachments": {},
   "cell_type": "markdown",
   "id": "ecce0aa5",
   "metadata": {},
   "source": [
    "## Résultats par bureau de vote\n",
    "\n",
    "Le site d'Élections Québec fournit l'ensemble des données des élections provinciales 2022 par bureau de vote, sous format CSV."
   ]
  },
  {
   "cell_type": "code",
   "execution_count": null,
   "id": "93cc9d47-b227-4509-baad-358d2763e13c",
   "metadata": {
    "tags": []
   },
   "outputs": [],
   "source": [
    "from urllib.request import urlretrieve\n",
    "import os\n",
    "import zipfile\n",
    "\n",
    "results_url = \"https://www.dgeq.org/doc/gen2022-10-03/resultats-bureau-vote.zip\"\n",
    "results_zip = \"resultats.zip\"\n",
    "results_path = \"resultats\"\n",
    "\n",
    "# Créer le dossier de stockage des résultats s'il n'existe pas (s'il existe, assume que les données ont déjà été téléchargées et dézippées)\n",
    "if not os.path.isdir(results_path):\n",
    "    os.mkdir(results_path)\n",
    "\n",
    "    # Télécharger puis dézipper les résultats s'ils ne l'ont pas déjà été\n",
    "    if not os.path.exists(results_zip):\n",
    "        urlretrieve(results_url, results_zip)\n",
    "        with zipfile.ZipFile(results_zip, 'r') as zip_ref:\n",
    "            zip_ref.extractall(results_path)"
   ]
  },
  {
   "attachments": {},
   "cell_type": "markdown",
   "id": "53d45cfb",
   "metadata": {},
   "source": [
    "### Récupération de la liste des partis politiques"
   ]
  },
  {
   "cell_type": "code",
   "execution_count": null,
   "id": "7fb4e590",
   "metadata": {},
   "outputs": [],
   "source": [
    "candidates_url = \"https://www.dgeq.org/doc/gen2022-10-03/candidatures.json\"\n",
    "\n",
    "headers = {'Accept': 'application/json'}\n",
    "r = requests.get(candidates_url, headers=headers)\n",
    "candidates = r.json()\n",
    "\n",
    "parties = {c['abreviation_parti']: c['nom_parti'] for c in candidates if c['abreviation_parti']}\n",
    "parties['Ind'] = 'Indépendant'\n",
    "\n",
    "POLITICAL_COLORS = {\n",
    "    'C.A.Q.-E.F.L.': '#00b4f1',\n",
    "    'Q.S.': '#ff5505',\n",
    "    'P.Q.': '#003eaa',\n",
    "    'P.L.Q./Q.L.P.': '#ed1b2e',\n",
    "    'P.C.Q-E.E.D.': '#163b7a',\n",
    "}\n",
    "\n",
    "INDIGENOUS_CONFIG = pd.DataFrame([\n",
    "    ['Cris', 52.229556, -78.502344, '#6895ba'],\n",
    "    ['Algonquins',  47.111489, -77.833080, '#66316e'],\n",
    "    ['Inuits',  57.982131, -72.497684, '#e1e2e4'],\n",
    "    ['Naskapis',    55.195711, -66.860871, '#d6a84a'],\n",
    "    ['Innus',   50.189381, -61.828352, '#868d93'],\n",
    "    ['Micmacs', 48.673580, -65.472705, '#a53e32'],\n",
    "    ['Malécites',   47.835817, -68.980292, '#52745a'],\n",
    "    ['Atikamekw',   48.152973, -74.278475, '#6c5930'],\n",
    "    ['Hurons-Wendat',   46.868054, -71.368484, '#7db45f'],\n",
    "    ['Abénakis',    46.237348, -72.369682, '#464f9c'],\n",
    "    ['Mohawks', 45.274449, -73.898823, '#405c72'],\n",
    "], columns=['Nation', 'Lat', 'Lon', 'Color'],).set_index('Nation')"
   ]
  },
  {
   "attachments": {},
   "cell_type": "markdown",
   "id": "e896d170",
   "metadata": {},
   "source": [
    "### Extraction des données sur les votes par bureau de vote"
   ]
  },
  {
   "cell_type": "code",
   "execution_count": null,
   "id": "831ea86b",
   "metadata": {},
   "outputs": [],
   "source": [
    "import csv\n",
    "import sys\n",
    "\n",
    "CIRCONSCRIPTION_COL = 'Circonscription'\n",
    "NOM_MUNICIPALITES_COL = 'Nom des Municipalités'\n",
    "MUNICIPALITE_COL = 'Nom Municipalité'\n",
    "TYPE_MUNICIPALITE_COL = 'Type Municipalité'\n",
    "ELECTEUR_INSCRIT_COL = 'É.I.'\n",
    "BULLETIN_VALIDE_COL = 'B.V.'\n",
    "BULLETIN_REJETE_COL = 'B.R.'\n",
    "PARTICIPATION_COL = '% Participation'\n",
    "\n",
    "\n",
    "# Supprime le nom du candidat pour ne garder que le nom de parti,\n",
    "# afin de pouvoir colliger les résultats par partis entre circonscriptions\n",
    "# Les candidats indépendants sont considérés comme appartenant à un parti Ind\n",
    "def rename_candidate_columns(col_name: str):\n",
    "    c, _, p = col_name.rpartition(' ')\n",
    "    if p in parties.keys():\n",
    "      return p\n",
    "    if p == 'Ind':\n",
    "       return 'Ind'\n",
    "    return col_name\n",
    "\n",
    "\n",
    "# Supprime le nom du candidat pour ne garder que le nom de parti,\n",
    "# afin de pouvoir colliger les résultats par partis entre circonscriptions\n",
    "def split_municipality_column(name: str):\n",
    "    if not name.startswith('BV'):\n",
    "       return pd.Series(str(name).split(', '))\n",
    "    return pd.Series([name, None])\n",
    "\n",
    "\n",
    "# Parcours de l'ensemble des fichiers dézippés (un CSV par cisconscription)\n",
    "\n",
    "circonscriptions = {}\n",
    "dataframe = pd.DataFrame()"
   ]
  },
  {
   "cell_type": "code",
   "execution_count": null,
   "id": "e8a37ee2",
   "metadata": {},
   "outputs": [],
   "source": [
    "for dirpath, _, files in os.walk(results_path):\n",
    "    for name in files:\n",
    "      # Charge les résultats dans un DataFrame\n",
    "      df = pd.read_csv(os.path.join(dirpath, name), sep=';', encoding='latin-1')\n",
    "      # Renomme les colonnes des candidats pour les uniformiser avec les noms des partis\n",
    "      df = df.rename(columns=rename_candidate_columns)\n",
    "      # Conserve les données par circonscription\n",
    "      dataframe = pd.concat([dataframe, df], ignore_index=True)\n",
    "\n",
    "# Split la colonne des Municipalités en nom/type juridique\n",
    "dataframe[[MUNICIPALITE_COL, TYPE_MUNICIPALITE_COL]] = dataframe[NOM_MUNICIPALITES_COL].apply(split_municipality_column)\n",
    "# Supprime les colonnes inutiles\n",
    "dataframe.drop(labels=['Code', 'Date scrutin', 'Étendue', 'Secteur', 'Regroupement', 'Nom des Municipalités', 'S.V.'], axis='columns', inplace=True)\n",
    "\n",
    "# Ajouter la colonne Nation\n",
    "dataframe = dataframe.join(communities.set_index(COMMUNITY_COL), on=MUNICIPALITE_COL)\n",
    "\n",
    "# Mettre des 0 à la place des valeurs vides, pour tous les partis\n",
    "for party in parties.keys():\n",
    "    dataframe[party] = dataframe[party].fillna(0)"
   ]
  },
  {
   "cell_type": "code",
   "execution_count": null,
   "metadata": {},
   "outputs": [],
   "source": [
    "# Ne garder que les colonnes utiles\n",
    "columns = [CIRCONSCRIPTION_COL, MUNICIPALITE_COL, NATION_COL, ELECTEUR_INSCRIT_COL, BULLETIN_VALIDE_COL]\n",
    "columns += [p for p in parties.keys()]\n",
    "dataframe = dataframe.loc[:, columns]"
   ]
  },
  {
   "attachments": {},
   "cell_type": "markdown",
   "id": "efb6f345",
   "metadata": {},
   "source": [
    "### Aggréger les données par communauté"
   ]
  },
  {
   "cell_type": "code",
   "execution_count": null,
   "id": "62b47fe7",
   "metadata": {},
   "outputs": [],
   "source": [
    "# Calcule:\n",
    "# - les pourcentages de votes pour chaque parti par rapport aux bulletins valides\n",
    "# - le pourcentage d'abstention par rapport au nombres d'électeurs inscrits\n",
    "def compute_percentages(df: pd.DataFrame) -> pd.DataFrame:\n",
    "    for party in parties.keys():\n",
    "        df[party] = df[party] / df[BULLETIN_VALIDE_COL] * 100\n",
    "    df[PARTICIPATION_COL] = 100 - (df[ELECTEUR_INSCRIT_COL] - df[BULLETIN_VALIDE_COL]) / df[ELECTEUR_INSCRIT_COL] * 100\n",
    "    return df"
   ]
  },
  {
   "cell_type": "code",
   "execution_count": null,
   "id": "60c8c03c",
   "metadata": {},
   "outputs": [],
   "source": [
    "# Regroupe tous les bureaux de votes non-autochtones en une seule ligne 'Non autochtone' par circonscription\n",
    "df_non_indidenous = dataframe[(dataframe[MUNICIPALITE_COL] != 'Total de la circonscription') & (dataframe[NATION_COL].isna())].copy()\n",
    "df_non_indidenous = df_non_indidenous.groupby(CIRCONSCRIPTION_COL).sum(numeric_only=True).reset_index()\n",
    "df_non_indidenous[MUNICIPALITE_COL] = 'Non autochtones'\n",
    "df_non_indidenous[NATION_COL] = 'Non autochtones'\n",
    "\n",
    "# Regroupe toutes les lignes \"total par circonscription\", par circonscription\n",
    "df_totals = dataframe[dataframe[MUNICIPALITE_COL] == 'Total de la circonscription'].copy()\n",
    "df_totals[NATION_COL] = df_totals[NATION_COL].fillna('Total')\n",
    "\n",
    "# Regroupe tous les bureaux de vote autochtones par municipalité/territoire, par circonscription\n",
    "df_indigenous = dataframe[~dataframe[NATION_COL].isna()].groupby([CIRCONSCRIPTION_COL, NATION_COL, MUNICIPALITE_COL]).sum(numeric_only=True).reset_index()\n",
    "\n",
    "# Liste l'ensemble des circonscriptions comprenant des bureaux de votes en territoire autochtone\n",
    "indigenous_districts = df_indigenous[CIRCONSCRIPTION_COL].unique()\n",
    "\n",
    "# Combine l'ensemble des tableaux en un seul\n",
    "\n",
    "combined_df = pd.concat([df_indigenous, df_non_indidenous, df_totals]).groupby([CIRCONSCRIPTION_COL, NATION_COL, MUNICIPALITE_COL], dropna=False).sum().reset_index()"
   ]
  },
  {
   "attachments": {},
   "cell_type": "markdown",
   "id": "7ed6d14e",
   "metadata": {},
   "source": [
    "### Aggréger les données par nation au niveau des circonscriptions"
   ]
  },
  {
   "cell_type": "code",
   "execution_count": null,
   "id": "0e099c5f",
   "metadata": {},
   "outputs": [],
   "source": [
    "df_by_nation_by_discrict = combined_df.groupby([CIRCONSCRIPTION_COL, NATION_COL]).sum(numeric_only=True).sort_values([CIRCONSCRIPTION_COL, NATION_COL]).reset_index()\n",
    "df_by_nation_by_discrict = compute_percentages(df_by_nation_by_discrict)"
   ]
  },
  {
   "attachments": {},
   "cell_type": "markdown",
   "id": "d1dd8f49",
   "metadata": {},
   "source": [
    "### Aggréger les données par nation au niveau national"
   ]
  },
  {
   "cell_type": "code",
   "execution_count": null,
   "id": "966468a0",
   "metadata": {},
   "outputs": [],
   "source": [
    "df_by_nation = combined_df.groupby([NATION_COL]).sum(numeric_only=True).sort_values([NATION_COL]).reset_index()\n",
    "\n",
    "df_indigenous_global = df_by_nation[df_by_nation[NATION_COL].isin(INDIGENOUS_CONFIG.index)].sum(numeric_only=True)\n",
    "df_indigenous_global = compute_percentages(df_indigenous_global)\n",
    "\n",
    "df_by_nation = compute_percentages(df_by_nation)"
   ]
  },
  {
   "attachments": {},
   "cell_type": "markdown",
   "id": "ea80f5e9",
   "metadata": {},
   "source": [
    "## Résultats"
   ]
  },
  {
   "attachments": {},
   "cell_type": "markdown",
   "id": "ead0cc71",
   "metadata": {},
   "source": [
    "### Abstention"
   ]
  },
  {
   "cell_type": "code",
   "execution_count": null,
   "id": "706c0f40",
   "metadata": {},
   "outputs": [],
   "source": [
    "participation_df = df_by_nation[[NATION_COL, PARTICIPATION_COL]].set_index(NATION_COL).join(INDIGENOUS_CONFIG, on=NATION_COL)\n",
    "participation_df = participation_df.sort_values(PARTICIPATION_COL)\n",
    "participation_df['Color'].fillna('C0', inplace=True)\n",
    "colors = list(participation_df['Color'])\n",
    "\n",
    "print(participation_df.to_csv())\n",
    "\n",
    "participation_df[[PARTICIPATION_COL]].squeeze().plot.barh(\n",
    "    title='Partitipation', ylabel='Communauté', xlabel='% Participation', legend=False, color=colors)"
   ]
  },
  {
   "cell_type": "code",
   "execution_count": null,
   "id": "10c28f4f",
   "metadata": {},
   "outputs": [],
   "source": [
    "results_by_nation = df_by_nation[[NATION_COL] + list(POLITICAL_COLORS.keys())].set_index(NATION_COL).sort_values([NATION_COL])\n",
    "plt = results_by_nation.plot.bar(color=POLITICAL_COLORS, figsize=(20, 10), xlabel='Population', ylabel='% Vote', fontsize=16)\n",
    "\n",
    "# Enregistrer figure dans fichier PNG\n",
    "plt.get_figure().savefig('assets/resultats_par_population.png', bbox_inches='tight')"
   ]
  },
  {
   "cell_type": "code",
   "execution_count": null,
   "id": "b2d9dc80",
   "metadata": {},
   "outputs": [],
   "source": [
    "df_by_community = df_indigenous.sort_values(NATION_COL).set_index([NATION_COL, CIRCONSCRIPTION_COL, MUNICIPALITE_COL])\n",
    "df_by_community = compute_percentages(df_by_community).loc[:,list(POLITICAL_COLORS.keys())].dropna()\n",
    "\n",
    "os.makedirs(os.path.join('assets', 'nations'), exist_ok=True)\n",
    "for nation in df_by_community.index.get_level_values(0).unique():\n",
    "    d = df_by_community.loc[(nation, slice(None), slice(None))]\n",
    "    kwargs = {}\n",
    "    if d.shape[0] > 5:\n",
    "        kwargs['figsize'] = (d.shape[0], 5)\n",
    "    plt = d.plot.bar(color=POLITICAL_COLORS, xlabel='Communauté', ylabel='% Vote', fontsize=16, title=nation, **kwargs)\n",
    "    plt.get_figure().savefig(os.path.join('assets', 'nations', f'resultats_{nation.lower()}.png'), bbox_inches='tight')"
   ]
  },
  {
   "cell_type": "code",
   "execution_count": null,
   "id": "5bc68b5e",
   "metadata": {},
   "outputs": [],
   "source": [
    "os.makedirs(os.path.join('assets', 'circonscriptions'), exist_ok=True)\n",
    "for district in indigenous_districts:\n",
    "    d = df_by_nation_by_discrict[df_by_nation_by_discrict[CIRCONSCRIPTION_COL] == district]\n",
    "    d = d[d[NATION_COL] != 'Total']\n",
    "    d = d[[NATION_COL] + list(POLITICAL_COLORS.keys())].set_index(NATION_COL).sort_values([NATION_COL])\n",
    "    plt = d.plot.bar(color=POLITICAL_COLORS, title=district, xlabel='Population', ylabel='Résultats')\n",
    "    plt.get_figure().savefig(os.path.join('assets', 'circonscriptions', f'resultats_{district.lower()}.png'), bbox_inches='tight')"
   ]
  },
  {
   "cell_type": "markdown",
   "metadata": {},
   "source": [
    "### Petits partis"
   ]
  },
  {
   "cell_type": "code",
   "execution_count": null,
   "id": "af255ede",
   "metadata": {},
   "outputs": [],
   "source": [
    "minor_parties = list(set(parties.keys()) - set(POLITICAL_COLORS.keys()))\n",
    "\n",
    "minor_results_by_nation = df_by_nation[[NATION_COL] + minor_parties].set_index(NATION_COL).sort_values([NATION_COL])\n",
    "minor_results_by_nation = minor_results_by_nation.query(' or '.join([f'`{party}` > 0' for party in minor_parties]))\n",
    "minor_results_by_nation['Meilleur petit parti'] = minor_results_by_nation.idxmax(axis=1, numeric_only=True)\n",
    "minor_results_by_nation['Score'] = minor_results_by_nation.max(axis=1, numeric_only=True)\n",
    "minor_results_by_nation.reset_index(inplace=True)\n",
    "minor_results_by_nation[[NATION_COL, 'Meilleur petit parti', 'Score']].style\n"
   ]
  },
  {
   "attachments": {},
   "cell_type": "markdown",
   "id": "6fa00327",
   "metadata": {},
   "source": [
    "## "
   ]
  }
 ],
 "metadata": {
  "kernelspec": {
   "display_name": "Python 3 (ipykernel)",
   "language": "python",
   "name": "python3"
  },
  "language_info": {
   "codemirror_mode": {
    "name": "ipython",
    "version": 3
   },
   "file_extension": ".py",
   "mimetype": "text/x-python",
   "name": "python",
   "nbconvert_exporter": "python",
   "pygments_lexer": "ipython3",
   "version": "3.11.3"
  }
 },
 "nbformat": 4,
 "nbformat_minor": 5
}
